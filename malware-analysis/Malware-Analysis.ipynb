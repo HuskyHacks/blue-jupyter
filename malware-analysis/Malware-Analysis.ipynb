{
 "cells": [
  {
   "cell_type": "markdown",
   "id": "3ce518f2-2d5c-4306-9c7e-c2b722ef35a3",
   "metadata": {},
   "source": [
    "# Malware Analysis & Triage Kit\n",
    "This notebook performs the initial stages of immediate malware triage.\n",
    "\n",
    "## How To\n",
    "This notebook will walk you through the stages of initial analysis.\n",
    "\n",
    "It automatically downloads malware samples from MalwareBazaar or you can choose to manually add them to the Dropbox directory.\n",
    "\n",
    "At the end of this process, you will have a triage report in the `saved-specimens` diretory. This report includes findings from initial triage, including the defanged specimen in a password-proteced Zip file and static analysis artifacts.\n",
    "\n",
    "If you don't want to enter your API credentials every time, create a `.blue-jupyter` file in your home directory and add them there with the following format:\n",
    "\n",
    "```\n",
    "MB_API_KEY=ABCDEFG\n",
    "API_KEY_2=HIJKLMN\n",
    "```"
   ]
  },
  {
   "cell_type": "markdown",
   "id": "5f44fca4-7efb-4475-80d9-c9379cb20efe",
   "metadata": {},
   "source": [
    "# Imports and Setup"
   ]
  },
  {
   "cell_type": "code",
   "execution_count": 1,
   "id": "27c75489",
   "metadata": {},
   "outputs": [],
   "source": [
    "# Imports\n",
    "from hashlib import *\n",
    "import sys\n",
    "import os\n",
    "import subprocess\n",
    "from getpass import getpass\n",
    "from virus_total_apis import PublicApi as VirusTotalPublicApi\n",
    "import json\n",
    "from MalwareSample import *\n",
    "from MalwareBazaar import *\n",
    "from Utils import *\n",
    "from pprint import pprint\n",
    "import os.path\n",
    "from time import sleep\n",
    "from datetime import datetime\n",
    "import requests"
   ]
  },
  {
   "cell_type": "markdown",
   "id": "bbdf003c-a416-451f-9536-a732b0389093",
   "metadata": {
    "tags": []
   },
   "source": [
    "## Malware Bazaar"
   ]
  },
  {
   "cell_type": "markdown",
   "id": "a96954c3-59d2-4848-bf3d-6608bb327d1f",
   "metadata": {},
   "source": [
    "### Malware Bazaar Setup"
   ]
  },
  {
   "cell_type": "code",
   "execution_count": 2,
   "id": "6573c5b2-6070-4ff8-90c6-2063adfcfd68",
   "metadata": {},
   "outputs": [],
   "source": [
    "API_URL = \"https://mb-api.abuse.ch/api/v1/\"\n",
    "\n",
    "MB_API_KEY = Utils.get_credential(\"MB_API_KEY\")\n",
    "if not MB_API_KEY:\n",
    "    MB_API_KEY = getpass(\"Enter Malware Bazaar API Key (blank if none): \")"
   ]
  },
  {
   "cell_type": "markdown",
   "id": "a49a3028-b5ad-4f0b-b2db-934d5c9ce08f",
   "metadata": {},
   "source": [
    "### Malware Download"
   ]
  },
  {
   "cell_type": "code",
   "execution_count": 3,
   "id": "4f481d4d-0f08-47d8-b2e0-2b120c820329",
   "metadata": {},
   "outputs": [
    {
     "name": "stdin",
     "output_type": "stream",
     "text": [
      "Number to download (Default 100):  1\n"
     ]
    },
    {
     "name": "stdout",
     "output_type": "stream",
     "text": [
      "\u001b[34m[*]\u001b[39m Starting download...\n",
      "\u001b[34m[*]\u001b[39m Fetching list...\n",
      "\u001b[34m[*]\u001b[39m Downloaded: 76257feb8d753a419e11bd0672eac3d236ac990d8ba8baf7ec44c5f1f3eac591\n",
      "\u001b[34m[*]\u001b[39m Finished downloading 1 files.\n"
     ]
    }
   ],
   "source": [
    "if not MB_API_KEY:\n",
    "    print(info + \"No MB_API_KEY. Skipping.\")\n",
    "else:\n",
    "    to_download_count = input(\"Number to download (Max of 100): \" )\n",
    "\n",
    "    if to_download_count:\n",
    "        to_download_count = int(to_download_count)\n",
    "    else:\n",
    "        to_download_count = 100;\n",
    "\n",
    "    print(info + \"Starting download...\")\n",
    "    response_data = MalwareBazaar.get_recent_list(API_URL, MB_API_KEY)\n",
    "    \n",
    "    current_download_count = 0\n",
    "    for i in response_data:\n",
    "\n",
    "        directory = os.getcwd() + \"/dropbox/\"\n",
    "        sha256_hash = i[\"sha256_hash\"]\n",
    "        \n",
    "        if i[\"file_type\"] != \"exe\":\n",
    "            print(info + \"Skipping. Not exe file: \" + sha256_hash)\n",
    "            continue\n",
    "\n",
    "        try:\n",
    "            if subprocess.check_output('grep -i \"' + sha256_hash + '\" processed.txt', stderr=subprocess.DEVNULL, shell=True):\n",
    "                print(info + \"Skipping. Already processed: \" + sha256_hash)\n",
    "                continue\n",
    "        except:\n",
    "            if os.path.exists(directory + sha256_hash + \".exe\"):\n",
    "                print(info + \"Skipping. Already downloaded: \" + sha256_hash)\n",
    "                continue\n",
    "                \n",
    "        MalwareBazaar.download_malware(sha256_hash, API_URL, MB_API_KEY)\n",
    "\n",
    "        filename = sha256_hash + \".zip\"\n",
    "        Utils.unzip_file(directory, filename, \"infected\")\n",
    "        \n",
    "        print(info + \"Downloaded: \" + sha256_hash)    \n",
    "        current_download_count += 1\n",
    "        if current_download_count >= to_download_count:\n",
    "            break\n",
    "\n",
    "    print(info + \"Finished downloading \" + str(current_download_count) + \" files.\")"
   ]
  },
  {
   "cell_type": "markdown",
   "id": "664c107c-4e09-4454-9d0f-14b02a4a4359",
   "metadata": {
    "tags": []
   },
   "source": [
    "### Check Dropbox and Saved-Specimens"
   ]
  },
  {
   "cell_type": "code",
   "execution_count": null,
   "id": "2c185a74-8ca6-47a9-a907-575f9977bf97",
   "metadata": {},
   "outputs": [],
   "source": [
    "MalwareSample.check_dir(\"dropbox\")\n",
    "MalwareSample.check_dir(\"saved-specimens\")\n",
    "empty = MalwareSample.is_dir_empty(\"dropbox\")\n",
    "if empty:\n",
    "    print(r\"  \\\\--> \" + recc + \"Put some samples in the dropbox!\")"
   ]
  },
  {
   "cell_type": "markdown",
   "id": "6040f004-b9e1-40a8-97d7-47a695a244d1",
   "metadata": {},
   "source": [
    "### Enumerate Samples in the Dropbox"
   ]
  },
  {
   "cell_type": "code",
   "execution_count": null,
   "id": "05d854a4-2ee3-46ec-b054-9951ac45a4be",
   "metadata": {},
   "outputs": [],
   "source": [
    "samples=!ls dropbox/*\n",
    "for s in samples:\n",
    "    print(info + \"Sample: \" + s)"
   ]
  },
  {
   "cell_type": "code",
   "execution_count": null,
   "id": "6ac2bf59-027e-42d6-90e0-aeed55b19080",
   "metadata": {},
   "outputs": [],
   "source": [
    "sample_obj = [MalwareSample(s) for s in samples]"
   ]
  },
  {
   "cell_type": "markdown",
   "id": "d304d261-d1d8-45da-bcb5-895bcf0fa13d",
   "metadata": {},
   "source": [
    "### Create a Saved Specimen directory for the specimen(s)"
   ]
  },
  {
   "cell_type": "code",
   "execution_count": null,
   "id": "2180e548-b0ab-4c22-9be5-ad174c1c731f",
   "metadata": {},
   "outputs": [],
   "source": [
    "for obj in sample_obj:\n",
    "    saved_sample_name = MalwareSample.create_specimen_dirs(obj.sample_name)\n",
    "    obj.saved_sample_name = saved_sample_name"
   ]
  },
  {
   "cell_type": "markdown",
   "id": "5bbd76df",
   "metadata": {},
   "source": [
    "### Defang Sample"
   ]
  },
  {
   "cell_type": "code",
   "execution_count": null,
   "id": "26e85823-d891-4dfb-925e-8d36f24d3cb2",
   "metadata": {},
   "outputs": [],
   "source": [
    "for obj in sample_obj:\n",
    "    sample_path = MalwareSample.move_and_defang(obj.sample_name, obj.saved_sample_name)\n",
    "    obj.sample_path = sample_path"
   ]
  },
  {
   "cell_type": "markdown",
   "id": "7532c0d9-1a4d-4cc9-af82-f9153d1aaa09",
   "metadata": {},
   "source": [
    "---"
   ]
  },
  {
   "cell_type": "markdown",
   "id": "6a11a2b7-dca9-4892-82b4-7d2c7d73956c",
   "metadata": {},
   "source": [
    "## File Hashes"
   ]
  },
  {
   "cell_type": "markdown",
   "id": "b6c61ed7-9ffe-420b-925f-4430abcc0532",
   "metadata": {},
   "source": [
    "### SHA256 Sum"
   ]
  },
  {
   "cell_type": "code",
   "execution_count": null,
   "id": "005b84f0",
   "metadata": {},
   "outputs": [],
   "source": [
    "for obj in sample_obj:\n",
    "    hash = MalwareSample.get_sha256sum(obj.sample_path, obj.saved_sample_name)\n",
    "    obj.sha256sum = hash\n",
    "    print(info + obj.sample_name + \": \" + obj.sha256sum)"
   ]
  },
  {
   "cell_type": "markdown",
   "id": "b6262536-41fe-46ef-a122-a7128be06891",
   "metadata": {},
   "source": [
    "---"
   ]
  },
  {
   "cell_type": "markdown",
   "id": "1ba005fc-242a-44bd-9830-fe02dbd500db",
   "metadata": {},
   "source": [
    "## String Analysis"
   ]
  },
  {
   "cell_type": "markdown",
   "id": "0b20f1aa",
   "metadata": {},
   "source": [
    "### StringSifter\n",
    "StringSifter is a FLARE developed tool that uses an ML model to rank a binary's strings by relevance to malware analysis."
   ]
  },
  {
   "cell_type": "code",
   "execution_count": null,
   "id": "d55ea3ab-ef6e-41f9-a76e-6cd8d16083ed",
   "metadata": {},
   "outputs": [],
   "source": [
    "length = int(input(recc + \"Input your desired minimum string length [default is 4, 6-8 is recommended] > \"))"
   ]
  },
  {
   "cell_type": "code",
   "execution_count": null,
   "id": "6703a990-6415-4898-b395-b77dccc629fc",
   "metadata": {},
   "outputs": [],
   "source": [
    "for obj in sample_obj:\n",
    "    MalwareSample.pull_strings(length, obj.saved_sample_name, obj.sample_path)\n",
    "    \n",
    "print(info + \"Done.\")"
   ]
  },
  {
   "cell_type": "markdown",
   "id": "ae8b0dfd-abcd-4215-87d9-275190551475",
   "metadata": {},
   "source": [
    "## VT Analysis\n",
    "Submit samples to Virus Total and generate a malicious confidence level."
   ]
  },
  {
   "cell_type": "code",
   "execution_count": null,
   "id": "98eea2a6-b219-4e50-ba91-9d43afa5b49c",
   "metadata": {},
   "outputs": [],
   "source": [
    "VT_API_KEY = Utils.get_credential(\"VT_API_KEY\")\n",
    "if not VT_API_KEY:\n",
    "    VT_API_KEY = getpass(\"Enter VirusTotal API Key (blank if none): \")"
   ]
  },
  {
   "cell_type": "code",
   "execution_count": null,
   "id": "22aaffd7-4ad5-48cf-bfac-636c62338621",
   "metadata": {},
   "outputs": [],
   "source": [
    "if VT_API_KEY:\n",
    "    vt = VirusTotalPublicApi(VT_API_KEY)\n",
    "else:\n",
    "    print(info + \"No VT API Key. Skipping...\")"
   ]
  },
  {
   "cell_type": "markdown",
   "id": "b7bfdd87-4fcb-4b05-a0e7-8b1c796f17a7",
   "metadata": {},
   "source": [
    "Note: If there are more than 4 samples in the dropbox, hashes are submitted with a sleep of 16 seconds to remain under the public API rate limit. So hit go, grab a beverage of choice, stretch out and relax. This could be a while depending on how many samples you're submitting."
   ]
  },
  {
   "cell_type": "code",
   "execution_count": null,
   "id": "eab96775-bec5-4501-bfb9-3b3695190dd0",
   "metadata": {},
   "outputs": [],
   "source": [
    "if VT_API_KEY:\n",
    "    for obj in sample_obj:\n",
    "        print(info + obj.sample_name + \":\")\n",
    "        print(r\"  \\\\--> \" + info + \"SHA256sum: \" + obj.sha256sum)\n",
    "        res = vt.get_file_report(obj.sha256sum)\n",
    "        conf = malicious_confidence(res)\n",
    "        print(r\"  \\\\--> \" + info + \"Confidence level: \" + str(conf))\n",
    "        crit_level =  determine_criticality(conf)\n",
    "        obj.criticality = crit_level\n",
    "        \n",
    "        if len(sample_obj) >= 5:\n",
    "            sleep(16)\n",
    "        \n",
    "else:\n",
    "    print(info + \"No VT API Key. Skipping...\")\n",
    "    \n",
    "print(info + \"Done\")\n"
   ]
  },
  {
   "cell_type": "markdown",
   "id": "343fa9fa-4c44-445c-ab71-687f1e7d56fa",
   "metadata": {},
   "source": [
    "## Zip and Password Protect"
   ]
  },
  {
   "cell_type": "code",
   "execution_count": null,
   "id": "d1d38b8e-dc28-42ba-a9ce-2ab3bf11ce61",
   "metadata": {},
   "outputs": [],
   "source": [
    "for obj in sample_obj:\n",
    "    zip_file = MalwareSample.zip_and_password_protect(obj.sample_path, obj.saved_sample_name)\n",
    "    MalwareSample.delete_unzipped_sample(obj.sample_path, zip_file)"
   ]
  },
  {
   "cell_type": "markdown",
   "id": "a39e4181-1d08-453d-8372-6959803ef1d1",
   "metadata": {},
   "source": [
    "## Delete Downloads"
   ]
  },
  {
   "cell_type": "code",
   "execution_count": null,
   "id": "45f753b8-8eba-4d97-ab9a-1f12a1137175",
   "metadata": {},
   "outputs": [],
   "source": [
    "downloads=!ls dropbox/*\n",
    "if \"No such file or directory\" in downloads[0]:\n",
    "    print(info + \"Dropbox directory is empty.\")\n",
    "else:\n",
    "    with open(\"processed.txt\", \"a\") as f:\n",
    "        for d in downloads:\n",
    "            print(info + \"Removed: \" + d)\n",
    "            os.remove(d)\n",
    "            sha256_sum = os.path.splitext(os.path.basename(d))[0]\n",
    "            f.write(str(datetime.now()) + \" \" + sha256_sum + \"\\n\")"
   ]
  },
  {
   "cell_type": "markdown",
   "id": "633b965d-d0f8-47ab-ad92-07e379e2cdbf",
   "metadata": {},
   "source": [
    "---"
   ]
  },
  {
   "cell_type": "markdown",
   "id": "1aca7034-9406-4f2a-bd8b-0b238c72db37",
   "metadata": {},
   "source": [
    "### Debug Object Vars"
   ]
  },
  {
   "cell_type": "code",
   "execution_count": null,
   "id": "9bcc8b5c-46a0-4e5e-bdc8-a9ae68b889ce",
   "metadata": {},
   "outputs": [],
   "source": [
    "for obj in sample_obj:\n",
    "    pprint(vars(obj))"
   ]
  },
  {
   "cell_type": "code",
   "execution_count": null,
   "id": "4541aa06-3561-42bf-8a0d-3f49d1dcf1a1",
   "metadata": {},
   "outputs": [],
   "source": []
  }
 ],
 "metadata": {
  "kernelspec": {
   "display_name": "Python 3 (ipykernel)",
   "language": "python",
   "name": "python3"
  },
  "language_info": {
   "codemirror_mode": {
    "name": "ipython",
    "version": 3
   },
   "file_extension": ".py",
   "mimetype": "text/x-python",
   "name": "python",
   "nbconvert_exporter": "python",
   "pygments_lexer": "ipython3",
   "version": "3.8.5"
  }
 },
 "nbformat": 4,
 "nbformat_minor": 5
}
